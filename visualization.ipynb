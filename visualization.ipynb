{
 "cells": [
  {
   "cell_type": "code",
   "execution_count": 1,
   "metadata": {},
   "outputs": [],
   "source": [
    "import matplotlib.pyplot as plt\n",
    "import numpy as np\n",
    "from PIL import Image\n",
    "import os"
   ]
  },
  {
   "cell_type": "code",
   "execution_count": 2,
   "metadata": {},
   "outputs": [],
   "source": [
    "frames = []\n",
    "\n",
    "experiment = 'data_24_07_2024_205110'\n",
    "epochs = 100\n",
    "\n",
    "os.mkdir(f\"{experiment}/weights_pic\")\n",
    "\n",
    "for i in range(0, epochs):\n",
    "    with open(f'{experiment}/weights/weight_data{i}.npy', 'rb') as file:\n",
    "        data = np.load(file)\n",
    "    \n",
    "    plt.figure(figsize=(10,20))\n",
    "    plt.title(f'Epoch {i}')\n",
    "    plt.colorbar(plt.imshow(data))\n",
    "\n",
    "    plt.ylabel('Poisson group')\n",
    "    plt.xlabel('Exc. hidden group')\n",
    "\n",
    "    plt.savefig(f'{experiment}/weights_pic/weights_{i}.png')\n",
    "\n",
    "    frame = Image.open(f'{experiment}/weights_pic/weights_{i}.png')\n",
    "    frames.append(frame)\n",
    "\n",
    "    plt.close()\n",
    "    \n",
    "\n",
    "frames[0].save(\n",
    "    'rates_train.gif',\n",
    "    save_all=True,\n",
    "    append_images=frames[1:],  # Срез который игнорирует первый кадр.\n",
    "    optimize=True,\n",
    "    duration=300,\n",
    "    loop=0\n",
    ")"
   ]
  },
  {
   "cell_type": "code",
   "execution_count": null,
   "metadata": {},
   "outputs": [],
   "source": []
  }
 ],
 "metadata": {
  "kernelspec": {
   "display_name": "small_world_snn",
   "language": "python",
   "name": "python3"
  },
  "language_info": {
   "codemirror_mode": {
    "name": "ipython",
    "version": 3
   },
   "file_extension": ".py",
   "mimetype": "text/x-python",
   "name": "python",
   "nbconvert_exporter": "python",
   "pygments_lexer": "ipython3",
   "version": "3.10.13"
  }
 },
 "nbformat": 4,
 "nbformat_minor": 2
}
