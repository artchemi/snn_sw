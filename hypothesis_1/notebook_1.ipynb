{
 "cells": [
  {
   "cell_type": "code",
   "execution_count": 2,
   "metadata": {},
   "outputs": [],
   "source": [
    "import os\n",
    "import shutil\n",
    "\n",
    "os.chdir('..')"
   ]
  },
  {
   "cell_type": "code",
   "execution_count": 3,
   "metadata": {},
   "outputs": [],
   "source": [
    "from keras.datasets import mnist\n",
    "from snn_200_poisson import Model\n",
    "from torch.utils.tensorboard import SummaryWriter\n",
    "from brian2 import *\n",
    "\n",
    "import matplotlib.pyplot as plt\n",
    "import numpy as np\n",
    "import pandas as pd\n",
    "\n",
    "from tqdm import tqdm"
   ]
  },
  {
   "cell_type": "code",
   "execution_count": null,
   "metadata": {},
   "outputs": [],
   "source": [
    "model = Model(100)"
   ]
  },
  {
   "cell_type": "markdown",
   "metadata": {},
   "source": [
    "Гипотеза 1 - можно ли зафиксировать конец обучения по динамике весов?\n",
    "Чтобы это проверить необходимо обучить сеть на одной картинке на много эпох и смотреть динамику рандомных весов в каждой эпохе (либо относительное изменение)"
   ]
  },
  {
   "cell_type": "code",
   "execution_count": 3,
   "metadata": {},
   "outputs": [
    {
     "data": {
      "text/plain": [
       "<matplotlib.image.AxesImage at 0x2c9537a1810>"
      ]
     },
     "execution_count": 3,
     "metadata": {},
     "output_type": "execute_result"
    },
    {
     "data": {
      "image/png": "[encoded data removed]",
      "text/plain": [
       "<Figure size 640x480 with 1 Axes>"
      ]
     },
     "metadata": {},
     "output_type": "display_data"
    }
   ],
   "source": [
    "(X_train, y_train), (X_test, y_test) = mnist.load_data()\n",
    "#X_train = X_train[y_train == 0]\n",
    "X_train = X_train[(y_train == 0) | (y_train == 7)]\n",
    "\n",
    "X_train = X_train[:2]\n",
    "\n",
    "train_pic = X_train[1]\n",
    "plt.imshow(train_pic)"
   ]
  },
  {
   "cell_type": "code",
   "execution_count": 4,
   "metadata": {},
   "outputs": [
    {
     "ename": "FileNotFoundError",
     "evalue": "[WinError 3] Системе не удается найти указанный путь: '/home/daniil_artamonov/projects/smallworld_snn/train'",
     "output_type": "error",
     "traceback": [
      "\u001b[1;31m---------------------------------------------------------------------------\u001b[0m",
      "\u001b[1;31mFileNotFoundError\u001b[0m                         Traceback (most recent call last)",
      "Cell \u001b[1;32mIn[4], line 8\u001b[0m\n\u001b[0;32m      5\u001b[0m     \u001b[38;5;28;01mpass\u001b[39;00m\n\u001b[0;32m      7\u001b[0m \u001b[38;5;28;01mfinally\u001b[39;00m:\n\u001b[1;32m----> 8\u001b[0m     \u001b[43mos\u001b[49m\u001b[38;5;241;43m.\u001b[39;49m\u001b[43mmkdir\u001b[49m\u001b[43m(\u001b[49m\u001b[38;5;124;43m'\u001b[39;49m\u001b[38;5;124;43m/home/daniil_artamonov/projects/smallworld_snn/train\u001b[39;49m\u001b[38;5;124;43m'\u001b[39;49m\u001b[43m)\u001b[49m\n\u001b[0;32m      9\u001b[0m     os\u001b[38;5;241m.\u001b[39mmkdir(\u001b[38;5;124m'\u001b[39m\u001b[38;5;124m/home/daniil_artamonov/projects/smallworld_snn/train/conv_pic\u001b[39m\u001b[38;5;124m'\u001b[39m)\n",
      "\u001b[1;31mFileNotFoundError\u001b[0m: [WinError 3] Системе не удается найти указанный путь: '/home/daniil_artamonov/projects/smallworld_snn/train'"
     ]
    }
   ],
   "source": [
    "try:\n",
    "    shutil.rmtree('/home/daniil_artamonov/projects/smallworld_snn/train')\n",
    "\n",
    "except FileNotFoundError:\n",
    "    pass\n",
    "\n",
    "finally:\n",
    "    os.mkdir('/home/daniil_artamonov/projects/smallworld_snn/train')\n",
    "    os.mkdir('/home/daniil_artamonov/projects/smallworld_snn/train/conv_pic')"
   ]
  },
  {
   "cell_type": "code",
   "execution_count": 5,
   "metadata": {},
   "outputs": [],
   "source": [
    "gmax = .05  # .01\n",
    "def plot_w(S1M):\n",
    "    plt.rcParams[\"figure.figsize\"] = (20, 10)\n",
    "    subplot(311)\n",
    "    plot(S1M.t / ms, S1M.w.T / gmax)\n",
    "    ylabel('w / wmax')\n",
    "    subplot(312)\n",
    "    plot(S1M.t / ms, S1M.Apre.T)\n",
    "    ylabel('apre')\n",
    "    subplot(313)\n",
    "    plot(S1M.t / ms, S1M.Apost.T)\n",
    "    ylabel('apost')\n",
    "    tight_layout()\n",
    "    show();"
   ]
  },
  {
   "cell_type": "code",
   "execution_count": 6,
   "metadata": {},
   "outputs": [],
   "source": [
    "epochs = 10"
   ]
  },
  {
   "cell_type": "code",
   "execution_count": 1,
   "metadata": {},
   "outputs": [
    {
     "ename": "NameError",
     "evalue": "name 'Model' is not defined",
     "output_type": "error",
     "traceback": [
      "\u001b[1;31m---------------------------------------------------------------------------\u001b[0m",
      "\u001b[1;31mNameError\u001b[0m                                 Traceback (most recent call last)",
      "Cell \u001b[1;32mIn[1], line 1\u001b[0m\n\u001b[1;32m----> 1\u001b[0m model \u001b[38;5;241m=\u001b[39m \u001b[43mModel\u001b[49m(\u001b[38;5;241m728\u001b[39m, \u001b[38;5;241m100\u001b[39m, \u001b[38;5;28;01mTrue\u001b[39;00m)\n",
      "\u001b[1;31mNameError\u001b[0m: name 'Model' is not defined"
     ]
    }
   ],
   "source": [
    "model = Model(728, 100, True)"
   ]
  },
  {
   "cell_type": "code",
   "execution_count": 8,
   "metadata": {},
   "outputs": [
    {
     "ename": "FileExistsError",
     "evalue": "[WinError 183] Невозможно создать файл, так как он уже существует: 'c:\\\\Users\\\\User\\\\projects\\\\smallworld_snn/train/network_data'",
     "output_type": "error",
     "traceback": [
      "\u001b[1;31m---------------------------------------------------------------------------\u001b[0m",
      "\u001b[1;31mFileExistsError\u001b[0m                           Traceback (most recent call last)",
      "Cell \u001b[1;32mIn[8], line 1\u001b[0m\n\u001b[1;32m----> 1\u001b[0m model \u001b[38;5;241m=\u001b[39m \u001b[43mModel\u001b[49m\u001b[43m(\u001b[49m\u001b[38;5;241;43m728\u001b[39;49m\u001b[43m,\u001b[49m\u001b[43m \u001b[49m\u001b[38;5;241;43m100\u001b[39;49m\u001b[43m,\u001b[49m\u001b[43m \u001b[49m\u001b[38;5;28;43;01mTrue\u001b[39;49;00m\u001b[43m)\u001b[49m\n\u001b[0;32m      3\u001b[0m model\u001b[38;5;241m.\u001b[39mtrain([train_pic], epochs)\n",
      "File \u001b[1;32mc:\\Users\\User\\projects\\smallworld_snn\\snn_200_poisson.py:128\u001b[0m, in \u001b[0;36mModel.__init__\u001b[1;34m(self, n_input, n_hidden, debug, save)\u001b[0m\n\u001b[0;32m    124\u001b[0m     \u001b[38;5;66;03m# app['S_SW_M'] = StateMonitor(app['S_small_world'], ['w', 'Apre', 'Apost'], record=app['S_small_world'], name='S_SW_M')\u001b[39;00m\n\u001b[0;32m    125\u001b[0m     \u001b[38;5;66;03m# app['S1M'] = StateMonitor(app['S1'], ['w', 'Apre', 'Apost'], record=app['S1'][0, :], name='S1M')\u001b[39;00m\n\u001b[0;32m    127\u001b[0m \u001b[38;5;28;01mtry\u001b[39;00m:\n\u001b[1;32m--> 128\u001b[0m     \u001b[43mos\u001b[49m\u001b[38;5;241;43m.\u001b[39;49m\u001b[43mmkdir\u001b[49m\u001b[43m(\u001b[49m\u001b[43mos\u001b[49m\u001b[38;5;241;43m.\u001b[39;49m\u001b[43mgetcwd\u001b[49m\u001b[43m(\u001b[49m\u001b[43m)\u001b[49m\u001b[43m \u001b[49m\u001b[38;5;241;43m+\u001b[39;49m\u001b[43m \u001b[49m\u001b[38;5;124;43m'\u001b[39;49m\u001b[38;5;124;43m/train/network_data\u001b[39;49m\u001b[38;5;124;43m'\u001b[39;49m\u001b[43m)\u001b[49m\n\u001b[0;32m    129\u001b[0m \u001b[38;5;28;01mexcept\u001b[39;00m \u001b[38;5;167;01mFileNotFoundError\u001b[39;00m:\n\u001b[0;32m    130\u001b[0m     \u001b[38;5;28;01mpass\u001b[39;00m\n",
      "\u001b[1;31mFileExistsError\u001b[0m: [WinError 183] Невозможно создать файл, так как он уже существует: 'c:\\\\Users\\\\User\\\\projects\\\\smallworld_snn/train/network_data'"
     ]
    }
   ],
   "source": [
    "model = Model(728, 100, True)\n",
    "\n",
    "model.train([train_pic], epochs)"
   ]
  },
  {
   "cell_type": "code",
   "execution_count": null,
   "metadata": {},
   "outputs": [
    {
     "data": {
      "text/plain": [
       "<matplotlib.colorbar.Colorbar at 0x7a88ad362480>"
      ]
     },
     "execution_count": 8,
     "metadata": {},
     "output_type": "execute_result"
    },
    {
     "data": {
      "image/png": "[encoded data removed]",
      "text/plain": [
       "<Figure size 640x480 with 2 Axes>"
      ]
     },
     "metadata": {},
     "output_type": "display_data"
    }
   ],
   "source": [
    "spikes_ser = pd.Series(list(model['ESP'].i))\n",
    "\n",
    "exc_rates_matrix = np.zeros(shape=(10, 10))\n",
    "count = 0 \n",
    "\n",
    "for i in range(10):\n",
    "    for j in range(10):\n",
    "        exc_rates_matrix[i, j] = spikes_ser[spikes_ser == count].shape[0] / (epochs * 0.5)\n",
    "        count += 1\n",
    "\n",
    "plt.colorbar(plt.imshow(exc_rates_matrix))"
   ]
  },
  {
   "cell_type": "code",
   "execution_count": null,
   "metadata": {},
   "outputs": [
    {
     "name": "stdout",
     "output_type": "stream",
     "text": [
      "[21, 11, 99, 49, 1, 3, 12, 17, 33, 65, 68, 88, 70, 81, 31, 40, 53, 58, 86, 51, 55, 74, 75, 95, 23, 47, 62, 67, 0, 18, 26, 45, 46, 64, 97, 5, 6, 8, 38, 43, 56, 69, 92, 27, 29, 72, 98, 10, 22, 24, 32, 36, 73, 84, 94, 16, 28, 44, 78, 90, 25, 48, 79, 61, 63, 9, 14, 15, 19, 20, 39, 42, 93, 30, 37, 54, 77, 89, 91, 41, 59, 87, 7, 76, 83, 50, 82, 34, 4, 52, 66, 85, 71, 96, 57, 80, 2, 13, 35, 60, 21, 99, 11, 3, 1, 17, 65, 88, 12, 68, 33, 49, 70, 31, 74, 81, 23, 40, 58, 26, 45, 53, 86, 46, 51, 75, 0, 47, 43, 62, 67, 29, 18, 5, 38, 55, 95, 28, 92, 6, 8, 24, 27, 10, 16, 69, 22, 32, 44, 64, 97, 72, 98, 56, 78, 20, 36, 42, 73, 77, 94, 37, 48, 14, 15, 84, 61, 79, 90, 91, 19, 30, 54, 25, 39, 76, 7, 41, 93, 63, 87, 89, 83, 50, 34, 59, 9, 82, 4, 66, 96, 57, 21, 35, 21, 3, 33, 99, 12, 11, 43, 95, 74, 31, 51, 40, 70, 88, 1, 42, 8, 10, 47, 65, 67, 18, 68, 0, 6, 17, 32, 64, 97, 46, 54, 81, 53, 72, 24, 92, 23, 29, 77, 86, 22, 27, 28, 38, 48, 55, 58, 14, 26, 62, 78, 16, 45, 49, 50, 87, 61, 73, 75, 30, 76, 19, 69, 56, 39, 41, 59, 93, 94, 98, 37, 84, 9, 25, 52, 90, 91, 82, 36, 63, 96, 20, 79, 83, 7, 15, 5, 34, 44, 66, 80, 4, 71, 57, 35, 85, 89, 2, 60, 13, 21, 33, 3, 11, 12, 31, 99, 74, 51, 40, 95, 42, 43, 88, 1, 70, 0, 18, 53, 10, 46, 67, 8, 47, 68, 64, 65, 81, 17, 26, 29, 72, 32, 24, 97, 16, 86, 6, 27, 21, 33, 99, 74, 12, 31, 47, 1, 0, 70, 51, 88, 53, 95, 3, 17, 26, 46, 86, 94, 8, 77, 81, 38, 65, 92, 43, 6, 22, 40, 49, 68, 75, 42, 55, 5, 45, 78, 11, 18, 29, 69, 97, 27, 58, 23, 59, 64, 67, 76, 87, 91, 30, 50, 62, 14, 34, 48, 7, 24, 41, 85, 10, 19, 79, 82, 16, 20, 25, 28, 36, 37, 39, 73, 90, 93, 15, 44, 71, 52, 54, 72, 83, 84, 9, 32, 96, 2, 61, 98, 89, 63, 80, 60, 66, 35, 56, 57, 4, 13, 21, 33, 99, 12, 1, 74, 47, 31, 70, 26, 88, 0, 40, 86, 53, 81, 94, 51, 65, 17, 3, 68, 8, 75, 67, 95, 23, 29, 69, 38, 46, 43, 77, 6, 55, 64, 78, 11, 18, 45, 92, 58, 42, 49, 34, 76, 27, 5, 21, 99, 33, 74, 26, 47, 1, 12, 95, 81, 3, 31, 65, 6, 51, 17, 86, 68, 40, 53, 70, 0, 27, 43, 45, 58, 8, 11, 77, 97, 59, 75, 78, 88, 14, 18, 23, 29, 42, 50, 64, 48, 87, 92, 94, 22, 28, 46, 91, 10, 67, 76, 5, 9, 19, 62, 38, 24, 32, 72, 73, 90, 69, 16, 55, 79, 39, 49, 30, 56, 84, 7, 85, 41, 54, 96, 20, 61, 82, 25, 37, 44, 52, 34, 15, 80, 93, 13, 98, 36, 63, 83, 66, 60, 89, 71, 4, 35, 2, 57, 21, 74, 33, 3, 26, 47, 1, 12, 31, 81, 95, 99, 17, 86, 40, 6, 53, 65, 23, 21, 99, 12, 51, 78, 11, 68, 0, 6, 47, 33, 43, 65, 74, 1, 75, 77, 3, 40, 87, 32, 26, 88, 31, 97, 17, 42, 10, 14, 23, 59, 46, 53, 58, 64, 67, 70, 48, 50, 81, 94, 95, 8, 49, 28, 29, 45, 55, 92, 18, 20, 27, 73, 24, 72, 76, 22, 62, 16, 38, 69, 25, 63, 85, 93, 19, 82, 86, 30, 90, 37, 54, 91, 9, 52, 79, 41, 44, 96, 80, 71, 5, 34, 83, 98, 7, 39, 56, 61, 2, 15, 57, 4, 36, 66, 84, 89, 35, 60, 13, 21, 12, 99, 68, 78, 11, 6, 47, 65, 33, 1, 74, 0, 3, 26, 77, 31, 40, 23, 51, 75, 53, 12, 99, 33, 65, 21, 95, 11, 31, 1, 77, 6, 70, 43, 53, 67, 74, 81, 17, 46, 51, 86, 47, 87, 40, 45, 49, 88, 94, 58, 23, 68, 75, 0, 3, 26, 64, 28, 42, 30, 32, 76, 78, 92, 73, 8, 10, 14, 48, 59, 69, 22, 24, 52, 72, 19, 25, 38, 55, 18, 97, 9, 27, 29, 71, 5, 82, 7, 16, 79, 83, 39, 44, 85, 54, 62, 90, 61, 37, 56, 15, 50, 63, 98, 20, 41, 84, 91, 93, 96, 57, 34, 36, 2, 89, 13, 80, 4, 66, 60, 35, 99, 33, 12, 31, 21, 65, 11, 53, 1, 74, 6, 17, 43, 77, 47, 46, 3, 21, 99, 51, 0, 75, 78, 33, 23, 11, 74, 26, 65, 70, 1, 12, 58, 31, 40, 17, 49, 81, 88, 3, 55, 68, 8, 45, 73, 97, 47, 67, 85, 92, 6, 77, 42, 53, 94, 24, 95, 22, 87, 28, 64, 69, 43, 79, 32, 48, 59, 76, 86, 34, 38, 46, 18, 19, 29, 30, 39, 44, 62, 82, 5, 14, 37, 54, 10, 16, 25, 72, 91, 9, 27, 41, 71, 96, 52, 90, 56, 50, 83, 20, 84, 7, 36, 98, 93, 61, 15, 13, 57, 80, 89, 60, 63, 2, 4, 66, 35, 21, 99, 0, 17, 12, 31, 33, 1, 3, 21, 11, 33, 53, 65, 88, 51, 74, 70, 43, 99, 17, 12, 38, 6, 27, 64, 75, 76, 95, 31, 40, 78, 3, 19, 26, 42, 77, 81, 92, 0, 1, 45, 62, 23, 47, 55, 18, 87, 97, 28, 49, 68, 58, 73, 5, 8, 16, 29, 46, 48, 71, 85, 10, 22, 67, 25, 24, 36, 69, 86, 7, 59, 14, 30, 32, 34, 37, 50, 56, 72, 93, 39, 90, 44, 91, 9, 54, 79, 82, 98, 15, 61, 83, 84, 89, 94, 41, 52, 96, 20, 60, 4, 80, 2, 63, 66, 57, 13, 35, 21, 33, 17, 53, 11, 51, 88, 99, 70, 74, 12, 65, 43, 0, 31, 3, 6, 40, 1, 76, 23, 75, 27, 42, 21, 1, 17, 12, 99, 43, 3, 81, 45, 47, 70, 74, 88, 95, 33, 62, 65, 67, 92, 7, 22, 31, 77, 78, 26, 32, 42, 23, 58, 59, 76, 97, 30, 75, 0, 46, 48, 55, 73, 11, 64, 16, 29, 37, 87, 6, 8, 49, 79, 38, 50, 68, 85, 94, 40, 53, 24, 28, 41, 72, 84, 19, 20, 86, 10, 15, 51, 91, 5, 14, 39, 18, 61, 82, 98, 44, 69, 25, 27, 83, 52, 89, 93, 54, 96, 80, 90, 36, 9, 34, 56, 63, 71, 4, 66, 2, 57, 13, 60, 35, 21, 1, 12, 99, 17, 45, 3, 81, 47, 47, 99, 12, 17, 21, 23, 81, 74, 1, 3, 6, 15, 26, 40, 59, 75, 78, 86, 88, 97, 0, 33, 42, 45, 49, 51, 54, 8, 34, 55, 72, 77, 95, 27, 31, 38, 39, 46, 53, 67, 68, 70, 71, 94, 5, 18, 25, 30, 37, 43, 48, 69, 76, 79, 7, 11, 16, 19, 22, 29, 32, 41, 52, 58, 65, 91, 14, 36, 50, 85, 24, 62, 66, 73, 83, 87, 89, 90, 10, 28, 61, 82, 92, 20, 44, 64, 80, 84, 96, 4, 63, 9, 35, 98, 2, 56, 57, 93, 60, 13, 17, 47, 99, 12, 21, 78, 45, 23, 74, 3, 33, 75, 1, 26, 42, 81, 88, 31, 49, 86, 0, 6, 39, 40, 59, 8, 15, 46, 53, 67, 68, 16, 38, 43, 55, 22, 54, 97, 27, 32, 34, 51, 58, 87, 18, 24, 37, 48, 77, 11, 25, 70, 72, 76, 91, 10, 20, 29, 30, 36, 41, 69, 94, 95, 50, 65, 71, 79, 82, 90, 5, 7, 14, 19, 52, 44, 62, 92, 28, 64, 73, 61, 66, 89, 85, 83, 2, 80, 93, 63, 56, 21, 12, 99, 47, 1, 17, 95, 81, 45, 65, 67, 70, 3, 33, 42, 46, 49, 10, 22, 24, 26, 58, 78, 86, 7, 11, 43, 64, 77, 87, 94, 59, 68, 74, 75, 88, 97, 8, 55, 92, 0, 6, 23, 31, 40, 53, 73, 14, 39, 48, 51, 69, 72, 76, 85, 41, 52, 20, 82, 91, 5, 9, 18, 62, 84, 16, 27, 32, 50, 79, 28, 30, 90, 19, 61, 44, 54, 93, 96, 98, 15, 29, 38, 25, 34, 36, 71, 83, 56, 57, 37, 80, 63, 4, 35, 60, 89, 66, 13, 2, 21, 12, 99, 1, 17, 47, 95, 45, 81, 3, 67, 86, 70, 33, 11, 65, 58, 21, 3, 97, 99, 92, 1, 43, 12, 68, 51, 47, 67, 9, 24, 95, 0, 31, 70, 74, 94, 48, 49, 78, 28, 33, 81, 77, 45, 88, 10, 17, 32, 44, 6, 40, 75, 96, 11, 14, 16, 18, 46, 50, 52, 84, 42, 62, 85, 91, 26, 29, 8, 23, 30, 64, 98, 65, 73, 53, 55, 58, 72, 79, 61, 87, 69, 19, 39, 86, 93, 7, 90, 22, 59, 82, 20, 5, 27, 41, 76, 38, 54, 56, 37, 25, 83, 36, 4, 34, 57, 63, 35, 80, 71, 13, 60, 15, 2, 89, 66, 21, 3, 1, 99, 33, 21, 12, 81, 99, 65, 17, 26, 31, 10, 47, 97, 3, 58, 78, 92, 1, 6, 45, 51, 70, 9, 77, 95, 74, 75, 68, 8, 40, 43, 64, 87, 11, 19, 28, 42, 53, 62, 0, 23, 73, 76, 38, 41, 55, 18, 46, 67, 86, 29, 14, 24, 37, 39, 88, 16, 49, 59, 25, 48, 72, 94, 32, 63, 69, 79, 84, 85, 90, 91, 30, 54, 82, 98, 52, 5, 61, 71, 96, 15, 20, 22, 93, 36, 80, 83, 7, 27, 44, 50, 57, 56, 4, 66, 13, 34, 60, 89, 35, 2, 21, 12, 81, 26, 33, 99, 31, 17, 3, 47, 45, 58, 65, 53, 1, 10, 78, 99, 21, 12, 3, 70, 43, 23, 68, 74, 75, 81, 40, 51, 64, 9, 47, 95, 26, 67, 92, 0, 6, 45, 78, 88, 65, 97, 17, 33, 98, 1, 84, 94, 29, 86, 96, 11, 28, 42, 31, 32, 48, 55, 77, 83, 14, 18, 19, 44, 54, 76, 90, 10, 58, 59, 69, 87, 24, 49, 72, 7, 38, 50, 79, 5, 25, 27, 30, 73, 46, 53, 85, 8, 37, 52, 61, 93, 36, 16, 39, 22, 62, 71, 34, 56, 82, 41, 63, 80, 35, 91, 4, 89, 15, 57, 2, 20, 60, 13, 66, 99, 21, 3, 12, 51, 40, 74, 43, 70, 23, 26, 81, 45, 75, 47, 78, 12, 21, 99, 81, 51, 6, 65, 3, 17, 95, 10, 88, 1, 97, 23, 33, 77, 98, 0, 45, 11, 47, 59, 87, 40, 9, 75, 31, 49, 7, 72, 29, 46, 68, 76, 92, 22, 53, 55, 64, 70, 74, 69, 73, 84, 94, 67, 37, 58, 63, 93, 96, 26, 28, 48, 61, 78, 5, 14, 19, 38, 43, 86, 8, 18, 27, 62, 15, 50, 83, 25, 32, 52, 82, 24, 30, 60, 54, 56, 90, 20, 36, 80, 89, 16, 4, 41, 57, 91, 42, 85, 34, 39, 79, 66, 71, 44, 2, 35, 13, 12, 21, 81, 99, 17, 6, 51, 10, 3, 88, 47, 75, 65, 45, 0, 33, 95, 98, 40, 21, 12, 99, 74, 1, 81, 11, 29, 51, 76, 0, 45, 31, 70, 97, 14, 40, 47, 22, 77, 95, 3, 9, 46, 78, 53, 72, 6, 28, 42, 18, 43, 58, 62, 85, 96, 26, 48, 64, 68, 94, 8, 17, 41, 69, 75, 5, 33, 67, 87, 88, 24, 55, 91, 35, 38, 44, 92, 23, 25, 49, 65, 83, 90, 61, 73, 84, 19, 34, 39, 59, 7, 93, 27, 50, 20, 37, 57, 60, 86, 32, 56, 10, 15, 16, 52, 98, 30, 36, 54, 66, 71, 79, 82, 13, 80, 63, 89, 4, 2, 21, 12, 81, 1, 74, 99, 11, 45, 0, 29, 40, 47, 31, 95, 68, 99, 21, 3, 11, 12, 17, 0, 1, 97, 24, 81, 28, 72, 74, 95, 8, 6, 49, 51, 78, 43, 75, 22, 65, 98, 31, 77, 88, 90, 29, 45, 53, 68, 96, 23, 70, 87, 91, 14, 20, 42, 52, 84, 9, 32, 59, 63, 69, 76, 94, 40, 58, 62, 93, 46, 50, 10, 47, 16, 44, 64, 67, 79, 86, 5, 33, 55, 7, 27, 92, 19, 36, 37, 73, 18, 30, 82, 38, 48, 25, 26, 61, 83, 85, 4, 13, 41, 71, 80, 39, 15, 56, 57, 89, 66, 34, 35, 60, 54, 2, 21, 99, 11, 12, 51, 21, 17, 31, 43, 3, 99, 11, 68, 97, 0, 14, 32, 74, 81, 23, 40, 6, 78, 12, 47, 98, 1, 88, 8, 28, 70, 9, 55, 58, 61, 96, 33, 42, 48, 10, 22, 29, 30, 45, 24, 49, 53, 67, 27, 62, 72, 94, 39, 76, 90, 95, 50, 93, 46, 75, 77, 84, 87, 16, 83, 26, 65, 18, 59, 73, 5, 44, 64, 19, 38, 69, 91, 92, 20, 56, 80, 82, 86, 7, 71, 4, 34, 36, 37, 54, 57, 79, 85, 15, 25, 41, 52, 35, 63, 60, 2, 66, 89, 13, 21, 11, 99, 51, 68, 17, 74, 81, 12, 47, 1, 99, 21, 97, 32, 95, 40, 43, 96, 0, 45, 62, 77, 6, 23, 31, 8, 33, 65, 14, 58, 75, 18, 42, 51, 48, 3, 11, 28, 69, 9, 19, 98, 26, 17, 78, 86, 68, 59, 92, 94, 16, 79, 53, 93, 5, 12, 21, 99, 32, 55, 74, 97, 17, 38, 81, 92, 0, 11, 40, 59, 68, 96, 1, 28, 45, 47, 51, 72, 78, 87, 88, 8, 18, 43, 48, 50, 58, 65, 3, 24, 26, 33, 62, 64, 91, 95, 6, 16, 75, 79, 83, 86, 10, 19, 22, 29, 46, 49, 54, 61, 82, 85, 98, 4, 9, 14, 27, 44, 53, 56, 69, 5, 7, 31, 70, 73, 84, 93, 94, 15, 20, 23, 25, 41, 42, 63, 66, 67, 77, 34, 52, 30, 39, 60, 80, 37, 76, 89, 90, 35, 57, 13, 71, 2, 36, 21, 17, 12, 74, 32, 68, 11, 45, 97, 99, 28, 48, 92, 96, 81, 18, 78, 43, 51, 1, 3, 40, 47, 16, 75, 0, 59, 62, 55, 99, 6, 12, 21, 26, 51, 65, 77, 81, 14, 47, 94, 23, 31, 1, 17, 58, 74, 95, 33, 68, 53, 0, 8, 9, 16, 19, 5, 11, 75, 40, 43, 79, 92, 78, 97, 3, 69, 96, 45, 32, 42, 59, 62, 98, 48, 25, 49, 93, 18, 70, 87, 24, 55, 86, 64, 29, 67, 88, 28, 39, 73, 7, 83, 84, 76, 30, 72, 22, 85, 10, 50, 41, 38, 82, 91, 4, 34, 46, 27, 37, 56, 15, 20, 44, 61, 71, 54, 36, 63, 60, 80, 52, 90, 13, 2, 57, 35, 89, 66, 99, 21, 12, 26, 47, 31, 23, 99, 14, 17, 21, 51, 8, 81, 42, 58, 77, 33, 65, 94, 11, 12, 95, 9, 47, 1, 6, 40, 45, 74, 3, 26, 43, 53, 68, 48, 78, 0, 69, 97, 5, 19, 79, 31, 86, 93, 96, 92, 75, 62, 67, 16, 98, 32, 24, 59, 70, 88, 28, 18, 49, 46, 87, 10, 39, 50, 76, 29, 64, 91, 38, 22, 27, 83, 30, 35, 55, 72, 84, 25, 61, 82, 15, 34, 36, 73, 85, 20, 37, 90, 7, 41, 44, 54, 80, 56, 71, 89, 4, 60, 63, 57, 2, 52, 13, 66, 23, 99, 21, 14, 17, 51, 12, 81, 33, 77, 8, 26, 95, 31, 58, 11, 42, 53, 21, 12, 99, 17, 31, 33, 94, 6, 8, 14, 23, 40, 47, 81, 11, 53, 58, 26, 77, 51, 95, 43, 42, 48, 65, 45, 92, 98, 1, 68, 3, 9, 93, 18, 69, 74, 86, 0, 19, 67, 78, 97, 32, 79, 22, 62, 28, 29, 49, 88, 39, 46, 64, 75, 87, 5, 70, 76, 24, 59, 82, 61, 91, 16, 27, 30, 96, 25, 72, 7, 20, 73, 37, 38, 56, 41, 50, 55, 90, 71, 10, 80, 83, 52, 57, 84, 85, 60, 34, 15, 4, 36, 44, 63, 35, 54, 13, 66, 89, 2, 21, 17, 31, 12, 33, 58, 11, 6, 8, 99, 14, 26, 53, 77, 21, 23, 42, 95, 12, 31, 99, 40, 47, 81, 86, 9, 33, 58, 77, 3, 17, 19, 43, 65, 94, 8, 51, 93, 26, 68, 74, 11, 97, 69, 1, 6, 14, 18, 53, 0, 48, 62, 98, 32, 39, 92, 5, 78, 79, 28, 75, 50, 67, 85, 96, 70, 76, 49, 64, 90, 45, 91, 27, 59, 72, 88, 82, 87, 46, 73, 22, 37, 16, 24, 7, 20, 38, 29, 34, 57, 41, 30, 84, 10, 25, 44, 55, 56, 80, 71, 13, 83, 52, 63, 36, 61, 54, 35, 60, 66, 15, 2, 4, 89, 21, 12, 31, 23, 17, 42, 26, 95, 33, 99, 77, 53, 58, 21, 74, 6, 51, 8, 9, 65, 95, 1, 11, 17, 68, 3, 69, 93, 99, 14, 31, 97, 40, 47, 26, 77, 94, 5, 86, 12, 33, 81, 19, 23, 75, 18, 45, 58, 0, 53, 62, 98, 28, 43, 72, 78, 48, 92, 49, 32, 42, 59, 70, 90, 10, 29, 79, 84, 96, 22, 91, 67, 87, 27, 76, 24, 36, 46, 41, 88, 16, 37, 64, 15, 20, 30, 44, 7, 61, 73, 82, 52, 39, 50, 38, 55, 34, 80, 85, 35, 54, 63, 83, 66, 71, 4, 13, 57, 25, 60, 56, 2, 89, 21, 51, 74, 8, 17, 95, 6, 31, 68, 26, 65, 69, 1, 99, 3, 33, 9, 86, 12, 47, 77, 11, 40, 58, 53, 97, 94, 21, 95, 58, 6, 99, 65, 77, 81, 17, 33, 8, 19, 74, 12, 69, 14, 26, 93, 31, 75, 51, 94, 3, 11, 86, 42, 53, 68, 5, 40, 1, 23, 47, 0, 48, 62, 98, 9, 43, 45, 72, 78, 92, 87, 97, 28, 73, 79, 29, 67, 96, 46, 59, 18, 64, 70, 88, 22, 32, 49, 84, 50, 24, 36, 25, 91, 7, 27, 76, 82, 10, 41, 71, 90, 16, 34, 85, 44, 39, 80, 30, 38, 37, 52, 55, 20, 61, 15, 57, 54, 56, 83, 35, 60, 4, 63, 66, 2, 13, 89, 21, 6, 17, 58, 65, 99, 95, 33, 81, 19, 11, 74, 77, 8, 53, 93, 12, 26, 86, 31, 75, 51, 3, 40, 94, 68, 6, 21, 77, 94, 95, 99, 65, 33, 17, 43, 81, 19, 51, 74, 92, 12, 40, 53, 5, 3, 11, 42, 86, 26, 31, 23, 58, 1, 9, 98, 14, 8, 47, 93, 48, 32, 0, 46, 97, 45, 67, 78, 59, 75, 62, 18, 27, 79, 85, 68, 7, 84, 22, 49, 69, 76, 50, 87, 96, 28, 70, 25, 38, 71, 10, 36, 64, 90, 24, 41, 61, 30, 91, 37, 72, 16, 55, 39, 82, 73, 88, 56, 29, 44, 83, 34, 13, 89, 57, 60, 15, 35, 63, 20, 52, 4, 54, 66, 80, 2, 21, 6, 95, 19, 17, 65, 33, 81, 74, 94, 99, 77, 86, 53, 3, 51, 21, 94, 31, 6, 11, 58, 65, 68, 77, 98, 9, 8, 14, 17, 26, 69, 47, 53, 40, 75, 92, 95, 33, 93, 86, 12, 81, 5, 48, 74, 99, 0, 19, 3, 28, 1, 32, 43, 62, 78, 23, 42, 97, 45, 18, 70, 41, 49, 79, 76, 96, 38, 29, 30, 87, 67, 72, 84, 25, 59, 61, 73, 85, 7, 16, 22, 64, 71, 10, 24, 39, 46, 36, 90, 55, 44, 50, 88, 91, 52, 4, 13, 20, 63, 83, 27, 34, 15, 56, 57, 66, 35, 54, 82, 60, 37, 80, 89, 2, 21, 31, 51, 6, 94, 17, 53, 98, 65, 58, 77, 11, 26, 3, 12, 11, 68, 21, 81, 94, 99, 53, 75, 77, 1, 14, 51, 65, 12, 17, 6, 9, 74, 96, 3, 31, 62, 95, 0, 5, 8, 42, 98, 28, 40, 69, 79, 86, 88, 32, 45, 72, 19, 23, 29, 33, 47, 58, 70, 73, 78, 93, 43, 49, 87, 97, 7, 25, 84, 91, 18, 26, 61, 64, 76, 92, 16, 44, 55, 83, 90, 46, 48, 50, 38, 56, 63, 80, 10, 22, 24, 41, 85, 4, 36, 59, 60, 82, 30, 54, 20, 27, 35, 37, 52, 66, 67, 2, 34, 39, 15, 71, 89, 57, 13, 11, 12, 17, 68, 21, 53, 77, 81, 94, 6, 75, 51, 99, 1, 31, 65, 3, 69, 5, 45, 98, 14, 79, 88, 0, 33, 42, 58, 74, 40, 23, 28, 62, 86, 47, 29, 32, 8, 26, 96, 51, 6, 21, 94, 12, 17, 97, 58, 3, 65, 11, 98, 31, 77, 78, 92, 9, 68, 26, 43, 53, 99, 8, 40, 47, 1, 18, 81, 69, 93, 42, 32, 95, 0, 48, 49, 86, 23, 62, 28, 67, 75, 45, 5, 79, 74, 19, 33, 22, 64, 72, 14, 70, 88, 37, 24, 55, 80, 16, 66, 84, 7, 29, 61, 87, 10, 76, 85, 90, 20, 25, 54, 82, 59, 83, 73, 38, 39, 63, 27, 50, 71, 46, 52, 91, 30, 44, 36, 34, 41, 56, 4, 15, 57, 96, 35, 60, 89, 2, 13, 51, 21, 17, 31, 6, 12, 3, 53, 58, 11, 21, 8, 94, 97, 51, 17, 95, 98, 77, 6, 65, 12, 26, 81, 69, 93, 1, 86, 31, 5, 18, 19, 49, 92, 3, 99, 23, 43, 0, 53, 40, 67, 42, 64, 68, 75, 74, 14, 70, 16, 48, 47, 24, 78, 9, 33, 37, 72, 82, 22, 45, 59, 73, 7, 29, 39, 46, 88, 62, 87, 28, 79, 32, 91, 34, 85, 27, 44, 52, 57, 13, 71, 20, 30, 84, 61, 90, 10, 56, 63, 96, 25, 38, 55, 80, 50, 76, 15, 35, 60, 83, 36, 4, 41, 54, 89, 2, 66, 21, 58, 11, 51, 12, 65, 6, 17, 94, 77, 26, 95, 31, 21, 51, 12, 3, 42, 53, 65, 95, 98, 99, 18, 43, 58, 94, 40, 19, 23, 11, 31, 64, 93, 0, 9, 47, 69, 75, 86, 6, 17, 33, 5, 77, 97, 14, 67, 74, 92, 62, 1, 26, 29, 81, 16, 48, 76, 78, 7, 8, 70, 82, 79, 72, 28, 22, 24, 68, 84, 32, 45, 55, 59, 25, 10, 50, 52, 73, 85, 27, 34, 39, 56, 30, 41, 91, 36, 46, 90, 87, 88, 44, 61, 80, 96, 38, 49, 57, 63, 20, 4, 83, 13, 35, 37, 60, 15, 71, 54, 2, 89, 66, 21, 12, 51, 43, 11, 31, 21, 53, 6, 17, 77, 95, 12, 3, 65, 19, 92, 42, 94, 98, 11, 14, 51, 18, 48, 58, 26, 33, 99, 43, 31, 5, 93, 74, 97, 1, 23, 40, 67, 8, 16, 45, 47, 64, 81, 75, 0, 22, 46, 49, 59, 7, 24, 62, 91, 9, 73, 79, 84, 87, 68, 86, 29, 32, 78, 30, 70, 10, 50, 69, 72, 96, 85, 88, 20, 38, 56, 57, 41, 61, 28, 63, 82, 27, 36, 52, 39, 55, 71, 13, 25, 44, 76, 83, 90, 34, 37, 4, 35, 54, 60, 15, 89, 2, 80, 66, 21, 12, 53, 6, 21, 11, 43, 77, 65, 95, 31, 42, 58, 3, 17, 1, 51, 92, 12, 8, 9, 94, 19, 93, 98, 14, 74, 84, 6, 18, 78, 81, 33, 26, 97, 53, 99, 5, 45, 73, 0, 40, 62, 16, 67, 68, 87, 32, 30, 47, 59, 38, 70, 23, 48, 49, 52, 24, 10, 72, 37, 75, 79, 22, 55, 69, 7, 29, 86, 28, 91, 27, 76, 90, 25, 61, 63, 82, 15, 41, 46, 54, 64, 88, 96, 39, 85, 36, 50, 71, 20, 80, 34, 44, 56, 57, 83, 13, 4, 89, 35, 60, 66, 2, 21, 43, 19, 77, 11, 21, 81, 31, 65, 53, 58, 95, 26, 51, 1, 3, 12, 74, 93, 94, 99, 17, 98, 5, 75, 6, 33, 69, 92, 0, 9, 18, 38, 42, 45, 40, 14, 68, 97, 23, 79, 78, 44, 64, 29, 62, 30, 43, 49, 67, 72, 84, 41, 16, 24, 96, 7, 90, 28, 47, 8, 25, 32, 70, 59, 76, 55, 57, 10, 36, 73, 86, 15, 52, 48, 83, 85, 20, 22, 34, 37, 46, 61, 71, 87, 91, 63, 39, 56, 88, 82, 50, 54, 35, 13, 27, 80, 4, 89, 66, 2, 60, 21, 19, 77, 6, 31, 51, 26, 94, 3, 21, 65, 17, 1, 43, 95, 98, 58, 99, 64, 77, 49, 92, 12, 93, 97, 11, 53, 62, 74, 81, 69, 23, 18, 14, 5, 9, 40, 33, 75, 78, 0, 8, 19, 67, 48, 50, 24, 68, 70, 72, 79, 42, 47, 59, 45, 55, 10, 16, 76, 86, 87, 90, 46, 38, 39, 85, 32, 36, 61, 84, 44, 91, 27, 63, 83, 41, 37, 71, 88, 15, 73, 25, 28, 4, 7, 29, 56, 30, 82, 52, 54, 20, 34, 35, 22, 60, 96, 66, 13, 57, 80, 2, 89, 26, 21, 77, 3, 31, 58, 65, 51, 98, 65, 17, 21, 74, 95, 26, 77, 19, 58, 9, 43, 23, 78, 97, 8, 12, 68, 94, 31, 42, 3, 11, 51, 70, 92, 75, 99, 53, 40, 67, 93, 6, 1, 32, 33, 0, 64, 72, 85, 18, 24, 86, 14, 45, 69, 73, 49, 41, 48, 47, 62, 39, 81, 76, 90, 52, 79, 80, 5, 55, 10, 16, 27, 30, 44, 28, 54, 82, 37, 71, 96, 38, 61, 15, 20, 87, 22, 29, 59, 25, 36, 50, 46, 84, 91, 35, 83, 7, 56, 66, 63, 60, 34, 57, 88, 4, 2, 13, 89, 65, 77, 21, 51, 58, 95, 9, 11, 26, 43, 99, 8, 14, 92, 97, 19, 68, 69, 45, 81, 90, 1, 12, 28, 32, 78, 98, 6, 18, 23, 31, 33, 40, 67, 93, 17, 42, 64, 74, 96, 10, 24, 44, 53, 59, 62, 75, 76, 82, 94, 0, 7, 30, 47, 48, 49, 70, 73, 86, 3, 4, 5, 20, 22, 38, 63, 29, 46, 55, 80, 16, 25, 37, 54, 83, 84, 87, 34, 39, 52, 57, 66, 72, 79, 85, 88, 50, 71, 15, 27, 35, 41, 61, 13, 36, 91, 56, 60, 89, 2, 77, 65, 21, 11, 58, 95, 17, 81, 86, 12, 3, 18, 51, 19, 8, 53, 1, 99, 6, 45, 26, 33, 43, 16, 5, 40, 94, 9, 70, 14, 65, 74, 23, 47, 49, 93, 38, 42, 62, 69, 77, 21, 31, 34, 59, 72, 92, 37, 67, 98, 76, 0, 24, 68, 84, 97, 46, 7, 30, 39, 28, 48, 85, 88, 52, 63, 75, 82, 22, 71, 90, 15, 20, 41, 10, 29, 64, 96, 36, 91, 32, 78, 44, 61, 13, 35, 57, 66, 73, 80, 27, 79, 25, 83, 87, 89, 60, 4, 50, 55, 56, 54, 2, 11, 58, 53, 31, 12, 94, 98, 77, 14, 21, 6, 11, 47, 58, 93, 95, 8, 42, 51, 99, 43, 1, 16, 17, 19, 65, 92, 75, 5, 74, 7, 9, 18, 48, 59, 23, 68, 49, 62, 78, 81, 33, 97, 45, 64, 3, 46, 82, 86, 24, 26, 29, 84, 30, 39, 40, 90, 0, 22, 56, 69, 70, 87, 73, 96, 25, 55, 63, 28, 83, 67, 76, 79, 91, 20, 32, 38, 57, 10, 34, 44, 88, 27, 37, 72, 66, 71, 80, 4, 61, 2, 41, 35, 13, 36, 60, 85, 15, 52, 50, 54, 89, 21, 11, 43, 74, 31, 77, 53, 51, 47, 9, 98, 6, 19, 58, 3, 94, 95, 12, 92, 42, 17, 75, 84, 26, 65, 14, 48, 5, 68, 99, 8, 93, 40, 73, 1, 16, 32, 62, 33, 38, 70, 45, 30, 86, 23, 55, 76, 78, 28, 29, 7, 41, 18, 39, 59, 79, 96, 97, 0, 27, 44, 81, 91, 67, 69, 25, 20, 46, 49, 64, 88, 24, 85, 50, 10, 57, 72, 22, 36, 4, 35, 54, 63, 82, 90, 87, 61, 56, 80, 34, 37, 13, 66, 2, 83, 89, 52, 71, 15, 60, 43, 51, 58, 11, 6, 21, 17, 3, 9, 31, 53, 65, 12, 47, 74, 99, 77, 95, 98, 75, 26, 94, 19, 23, 43, 97, 48, 68, 93, 14, 18, 59, 28, 33, 86, 96, 8, 42, 45, 72, 81, 92, 78, 32, 40, 16, 62, 64, 90, 82, 1, 24, 70, 88, 84, 87, 79, 85, 10, 69, 7, 67, 29, 5, 22, 30, 38, 49, 50, 0, 4, 39, 55, 73, 54, 57, 34, 52, 91, 36, 20, 27, 41, 46, 56, 37, 63, 76, 25, 44, 61, 13, 83, 2, 35, 80, 89, 60, 71, 15, 66, 11, 51, 58, 26, 98, 58, 14, 17, 31, 51, 8, 65, 93, 94, 97, 3, 6, 9, 53, 18, 77, 95, 11, 21, 5, 42, 43, 19, 67, 74, 90, 86, 75, 1, 12, 45, 68, 92, 49, 79, 64, 78, 99, 48, 81, 7, 47, 69, 0, 50, 16, 46, 70, 84, 24, 62, 96, 33, 76, 22, 23, 36, 41, 59, 28, 91, 27, 55, 88, 32, 39, 52, 80, 40, 38, 44, 72, 34, 54, 29, 37, 83, 10, 35, 56, 57, 71, 63, 87, 73, 85, 82, 13, 15, 20, 30, 61, 25, 89, 2, 4, 66, 60, 11, 93, 51, 31, 74, 95, 6, 77, 14, 19, 43, 17, 78, 9, 53, 58, 98, 42, 3, 8, 67, 68, 21, 26, 45, 48, 65, 76, 81, 86, 90, 18, 33, 40, 64, 94, 75, 97, 0, 23, 62, 92, 41, 46, 47, 52, 70, 35, 37, 39, 99, 5, 22, 29, 49, 69, 72, 1, 28, 24, 12, 50, 71, 84, 88, 20, 32, 63, 38, 85, 34, 73, 87, 27, 96, 59, 91, 25, 55, 82, 44, 54, 30, 57, 83, 7, 15, 16, 36, 60, 66, 79, 4, 10, 56, 13, 61, 89, 80, 2, 11, 51, 11, 31, 3, 21, 95, 0, 40, 98, 42, 14, 26, 43, 62, 77, 78, 99, 17, 23, 58, 93, 53, 90, 76, 81, 12, 88, 1, 6, 33, 67, 94, 18, 75, 74, 24, 65, 69, 48, 28, 72, 97, 29, 38, 45, 68, 96, 5, 8, 9, 59, 70, 87, 92, 47, 49, 19, 16, 64, 71, 50, 20, 73, 37, 52, 61, 84, 85, 36, 46, 57, 63, 86, 22, 34, 41, 55, 27, 32, 82, 35, 44, 79, 83, 30, 56, 10, 60, 80, 25, 54, 91, 7, 39, 4, 66, 2, 15, 13, 89, 11, 31, 51, 11, 12, 17, 68, 26, 53, 77, 94, 6, 47, 33, 95, 8, 42, 93, 99, 21, 58, 3, 74, 16, 19, 18, 5, 98, 9, 59, 43, 49, 78, 81, 40, 75, 86, 97, 1, 45, 48, 69, 76, 92, 0, 23, 88, 96, 14, 27, 71, 46, 72, 61, 62, 84, 28, 64, 30, 50, 65, 29, 38, 82, 20, 24, 34, 35, 32, 63, 22, 41, 67, 91, 73, 7, 39, 55, 60, 79, 87, 90, 37, 57, 44, 52, 85, 56, 83, 10, 54, 80, 15, 70, 2, 13, 25, 36, 66, 4, 89, 31, 11, 95, 99, 3, 93, 26, 51, 42, 58, 77, 11, 23, 75, 17, 49, 68, 86, 19, 12, 94, 6, 8, 5, 31, 81, 43, 53, 79, 97, 72, 9, 1, 64, 74, 40, 67, 69, 16, 21, 65, 47, 92, 78, 24, 46, 88, 98, 50, 59, 48, 33, 61, 84, 87, 73, 71, 90, 45, 3, 6, 17, 12, 31, 51, 98, 11, 53, 97, 93, 99, 43, 74, 33, 49, 77, 81, 92, 18, 48, 68, 72, 75, 76, 5, 40, 94, 95, 7, 9, 21, 28, 47, 52, 58, 67, 78, 86, 14, 16, 23, 32, 42, 59, 62, 65, 69, 91, 0, 1, 25, 79, 96, 19, 24, 27, 37, 38, 64, 70, 26, 30, 46, 55, 85, 88, 8, 39, 50, 84, 13, 22, 29, 36, 45, 73, 44, 63, 71, 89, 61, 82, 83, 34, 66, 10, 20, 60, 2, 4, 15, 56, 80, 87, 90, 35, 41, 57, 54, 3, 6, 11, 31, 51, 17, 98, 43, 97, 53, 12, 93, 5, 86, 40, 23, 75, 58, 92, 78, 42, 94, 26, 21, 77, 99, 11, 65, 8, 47, 12, 33, 59, 6, 31, 45, 48, 9, 17, 19, 81, 98, 49, 3, 95, 74, 24, 53, 68, 97, 1, 43, 67, 51, 69, 79, 72, 93, 46, 64, 75, 61, 16, 87, 50, 88, 71, 90, 5, 73, 86, 14, 28, 23, 84, 0, 18, 22, 40, 38, 76, 30, 32, 70, 82, 83, 29, 37, 96, 25, 62, 7, 20, 85, 34, 39, 41, 35, 10, 52, 91, 4, 80, 15, 44, 60, 36, 55, 66, 89, 2, 54, 27, 63, 57, 56, 13, 58, 92, 11, 42, 95, 21, 77, 31, 51, 3, 12, 19, 99, 6, 9, 24, 11, 43, 58, 94, 16, 17, 26, 48, 81, 64, 84, 42, 65, 67, 74, 92, 8, 47, 78, 59, 53, 68, 72, 93, 97, 1, 5, 46, 69, 86, 49, 33, 73, 98, 23, 50, 79, 88, 75, 14, 45, 90, 40, 61, 71, 87, 18, 62, 96, 0, 39, 7, 32, 10, 28, 85, 52, 35, 37, 70, 91, 30, 22, 29, 41, 25, 38, 44, 34, 82, 55, 63, 83, 13, 57, 60, 4, 54, 76, 15, 20, 36, 27, 80, 2, 66, 89, 21, 26, 58, 77, 31, 9, 95, 99, 81, 51, 3, 11, 48, 94, 12, 92, 93, 8, 42, 65, 49, 74, 17, 69, 23, 68, 16, 19, 33, 46, 64, 1, 67, 78, 21, 72, 97, 43, 53, 75, 86, 24, 47, 98, 40, 84, 45, 6, 73, 88, 59, 79, 5, 14, 50, 90, 61, 70, 71, 28, 37, 87, 0, 62, 18, 29, 76, 7, 44, 55, 30, 39, 38, 35, 91, 85, 20, 25, 27, 32, 41, 96, 83, 36, 52, 10, 34, 82, 22, 63, 60, 15, 56, 80, 54, 57, 66, 4, 13, 2, 89, 26, 94, 8, 58, 77, 95, 21, 51, 81, 1, 11, 92, 9, 17, 69, 99, 47, 74, 26, 31, 12, 67, 49, 65, 6, 78, 42, 72, 3, 23, 46, 48, 19, 43, 24, 75, 84, 93, 33, 64, 53, 68, 73, 98, 59, 79, 16, 5, 97, 88, 40, 50, 45, 86, 14, 71, 87, 61, 90, 0, 18, 7, 62, 39, 37, 76, 10, 30, 28, 70, 22, 32, 44, 82, 55, 38, 29, 35, 54, 27, 85, 41, 80, 83, 20, 52, 25, 57, 91, 34, 63, 89, 96, 60, 36, 66, 4, 15, 2, 11, 95, 17, 26, 58, 8, 42, 81, 19, 65, 77, 6, 74, 31, 33, 93, 48, 51, 94, 99, 12, 67, 46, 49, 92, 1, 21, 53, 69, 97, 68, 78, 16, 47, 64, 72, 79, 9, 24, 59, 23, 75, 50, 61, 90, 3, 43, 98, 71, 86, 87, 40, 45, 88, 73, 5, 84, 76, 14, 18, 0, 28, 39, 7, 62, 22, 41, 32, 37, 38, 10, 57, 70, 82, 85, 20, 27, 52, 30, 36, 96, 29, 34, 44, 56, 63, 89, 91, 35, 66, 80, 83, 25, 55, 54, 60, 13, 15, 4, 2, 11, 95, 26, 58, 17, 19, 42, 77, 31, 8, 48, 67, 49, 81, 53, 65, 93, 11, 58, 95, 99, 21, 9, 8, 92, 1, 31, 77, 81, 42, 78, 94, 19, 26, 43, 48, 69, 6, 65, 68, 86, 97, 67, 74, 90, 45, 64, 17, 53, 79, 51, 93, 12, 50, 84, 3, 23, 49, 24, 47, 73, 14, 98, 46, 75, 16, 33, 59, 40, 72, 61, 88, 5, 87, 18, 7, 37, 22, 76, 28, 39, 44, 32, 62, 91, 71, 55, 96, 30, 10, 56, 82, 0, 29, 20, 70, 27, 38, 25, 83, 41, 36, 60, 80, 4, 52, 66, 85, 63, 35, 2, 13, 34, 15, 57, 54, 89, 11, 21, 95, 58, 8, 31, 81, 1, 77, 95, 3, 17, 49, 42, 26, 99, 9, 48, 67, 94, 19, 86, 53, 65, 68, 12, 43, 59, 11, 45, 51, 74, 5, 21, 24, 47, 72, 97, 46, 92, 93, 58, 69, 88, 64, 84, 6, 90, 98, 23, 75, 78, 16, 40, 71, 33, 79, 50, 61, 73, 0, 76, 87, 29, 18, 30, 38, 14, 35, 7, 22, 70, 37, 44, 62, 34, 39, 63, 15, 52, 83, 13, 85, 27, 28, 36, 41, 20, 25, 56, 10, 55, 91, 32, 96, 54, 82, 60, 80, 89, 66, 4, 57, 2, 81, 94, 65, 93, 95, 99, 19, 21, 1, 51, 8, 11, 26, 77, 74, 12, 23, 58, 3, 9, 69, 64, 5, 79, 6, 43, 49, 67, 84, 98, 53, 75, 17, 31, 40, 72, 42, 47, 92, 78, 59, 97, 46, 33, 86, 14, 16, 73, 68, 45, 88, 24, 90, 50, 87, 48, 18, 7, 71, 0, 61, 62, 38, 96, 29, 55, 70, 25, 30, 39, 36, 76, 22, 28, 91, 13, 27, 44, 37, 63, 32, 35, 60, 41, 82, 10, 57, 83, 52, 56, 54, 4, 20, 34, 80, 15, 85, 2, 89, 66, 21, 94, 65, 8, 81, 51, 53, 58, 65, 77, 95, 94, 21, 3, 12, 19, 24, 31, 47, 93, 9, 26, 46, 99, 16, 42, 49, 64, 69, 1, 11, 33, 43, 92, 97, 5, 6, 67, 68, 72, 74, 75, 98, 40, 48, 79, 84, 86, 18, 59, 78, 87, 90, 96, 17, 45, 88, 14, 32, 73, 28, 61, 71, 50, 62, 56, 70, 13, 0, 10, 23, 57, 7, 82, 37, 54, 36, 38, 55, 80, 29, 85, 35, 39, 22, 30, 44, 52, 76, 83, 2, 34, 41, 60, 91, 15, 20, 66, 89, 25, 27, 63, 4, 94, 65, 21, 19, 26, 95, 11, 64, 99, 12, 16, 51, 68, 42, 77, 92, 31, 47, 49, 69, 78, 93, 43, 33, 53, 67, 5, 6, 58, 74, 9, 23, 40, 46, 1, 3, 81, 84, 75, 8, 24, 97, 71, 48, 59, 73, 45, 72, 98, 17, 79, 90, 50, 86, 96, 61, 87, 85, 0, 62, 14, 18, 39, 88, 36, 7, 41, 57, 10, 38, 32, 28, 22, 76, 91, 44, 82, 27, 56, 34, 55, 37, 4, 25, 35, 83, 2, 70, 20, 30, 80, 29, 15, 89, 63, 54, 60, 52, 66, 13, 21, 65, 94, 12, 26, 49, 94, 21, 3, 68, 81, 97, 77, 92, 95, 99, 9, 31, 40, 48, 72, 74, 46, 59, 17, 8, 11, 78, 6, 93, 45, 65, 42, 1, 23, 53, 69, 86, 19, 98, 51, 79, 58, 33, 43, 47, 75, 61, 67, 73, 88, 24, 5, 16, 50, 84, 64, 28, 90, 87, 71, 14, 29, 85, 18, 37, 91, 62, 70, 96, 7, 35, 30, 32, 55, 0, 20, 22, 38, 76, 66, 10, 27, 39, 80, 83, 41, 4, 36, 60, 52, 15, 34, 44, 63, 13, 57, 56, 82, 89, 25, 2, 54, 26, 94, 65, 21, 9, 3, 68, 45, 11, 99, 53, 74, 6, 77, 78, 47, 1, 72, 94, 95, 19, 49, 81, 92, 97, 12, 48, 59, 93, 31, 43, 51, 58, 5, 26, 8, 79, 84, 16, 17, 86, 33, 75, 42, 69, 64, 23, 67, 98, 24, 40, 73, 88, 90, 46, 50, 71, 29, 14, 28, 87, 62, 18, 61, 0, 37, 85, 30, 7, 38, 76, 44, 80, 83, 96, 54, 55, 66, 22, 15, 32, 36, 70, 82, 34, 35, 52, 27, 56, 60, 25, 41, 4, 13, 20, 91, 63, 89, 10, 39, 2, 57, 21, 68, 9, 65, 74, 11, 31, 19, 94, 26, 77, 95, 65, 21, 86, 12, 81, 53, 78, 3, 9, 49, 1, 48, 68, 99, 23, 43, 97, 17, 72, 92, 6, 42, 8, 51, 58, 11, 61, 45, 71, 33, 67, 90, 93, 47, 64, 5, 40, 59, 69, 79, 50, 14, 46, 74, 73, 87, 16, 75, 24, 84, 88, 32, 98, 85, 96, 0, 18, 30, 36, 28, 52, 10, 7, 55, 38, 62, 29, 57, 4, 82, 34, 13, 37, 41, 83, 91, 44, 39, 56, 70, 15, 35, 60, 25, 27, 66, 22, 80, 54, 63, 20, 76, 2, 89, 31, 19, 26, 21, 94, 65, 77, 99, 11, 1, 94, 12, 21, 47, 51, 42, 67, 95, 8, 49, 72, 9, 74, 3, 53, 6, 81, 33, 58, 69, 43, 93, 16, 78, 88, 97, 23, 79, 68, 84, 92, 98, 65, 86, 45, 48, 17, 24, 31, 26, 18, 40, 5, 19, 46, 71, 62, 90, 59, 64, 73, 75, 14, 29, 61, 76, 50, 30, 70, 37, 52, 32, 36, 80, 87, 96, 28, 35, 55, 0, 13, 27, 44, 7, 25, 34, 39, 41, 4, 15, 38, 60, 22, 66, 83, 85, 91, 82, 63, 20, 57, 2, 10, 56, 54, 89, 11, 47, 94, 81, 31, 9, 6, 65, 1, 21, 99, 48, 86, 53, 95, 17, 58, 98, 43, 3, 11, 97, 8, 19, 67, 93, 12, 42, 49, 74, 26, 51, 92, 68, 77, 84, 69, 78, 5, 33, 40, 16, 45, 59, 75, 23, 24, 71, 46, 47, 64, 79, 72, 73, 90, 88, 87, 50, 61, 76, 62, 39, 14, 18, 30, 70, 29, 44, 28, 38, 85, 0, 36, 37, 83, 96, 32, 7, 80, 82, 25, 27, 56, 4, 35, 20, 66, 10, 22, 52, 91, 41, 34, 55, 63, 13, 15, 54, 60, 2, 57, 89, 94, 21, 65, 11, 8, 6, 26, 68, 94, 51, 99, 74, 77, 9, 92, 12, 19, 31, 95, 45, 47, 64, 1, 93, 78, 48, 49, 58, 69, 16, 53, 17, 43, 81, 72, 73, 86, 67, 42, 46, 97, 3, 75, 23, 40, 5, 59, 84, 90, 28, 24, 33, 98, 14, 71, 88, 18, 50, 83, 29, 61, 87, 70, 0, 79, 62, 25, 91, 38, 76, 35, 37, 44, 96, 22, 66, 85, 56, 63, 4, 39, 13, 30, 36, 41, 82, 7, 15, 54, 60, 32, 10, 80, 20, 52, 34, 55, 57, 89, 2, 27, 65, 31, 94, 47, 48, 8, 11, 26, 58, 77, 95, 99, 17, 21, 42, 67, 46, 53, 59, 81, 6, 1, 12, 19, 51, 74, 43, 86, 92, 16, 24, 33, 45, 9, 69, 93, 68, 23, 49, 64, 78, 5, 40, 3, 79, 73, 84, 88, 90, 97, 14, 18, 38, 75, 83, 87, 70, 29, 56, 71, 72, 98, 61, 76, 0, 37, 28, 22, 39, 50, 62, 7, 30, 82, 25, 41, 80, 10, 54, 32, 63, 66, 96, 4, 85, 15, 89, 44, 20, 27, 34, 35, 57, 36, 52, 55, 2, 91, 60, 13, 94, 11, 65, 11, 21, 94, 78, 12, 65, 86, 95, 43, 67, 69, 97, 16, 33, 61, 72, 23, 51, 59, 77, 84, 47, 49, 53, 64, 73, 92, 8, 9, 17, 46, 68, 81, 88, 93, 6, 28, 40, 42, 58, 74, 98, 5, 31, 45, 75, 79, 99, 0, 1, 25, 48, 20, 26, 44, 19, 36, 3, 4, 7, 14, 32, 71, 90, 18, 22, 29, 30, 35, 38, 50, 62, 76, 87, 15, 91, 96, 24, 27, 37, 41, 82, 39, 52, 55, 60, 63, 10, 34, 54, 83, 85, 13, 70, 56, 89, 80, 2, 57, 66, 11, 21, 94, 65, 26, 6, 49, 81, 99, 12, 53, 94, 58, 1, 42, 77, 78, 95, 8, 11, 31, 24, 51, 67, 3, 59, 86, 17, 68, 93, 19, 48, 16, 64, 46, 71, 72, 79, 97, 43, 90, 23, 47, 69, 50, 61, 92, 45, 33, 74, 5, 9, 14, 88, 85, 87, 98, 40, 73, 62, 21, 28, 37, 0, 32, 36, 75, 29, 39, 52, 76, 18, 30, 96, 34, 91, 82, 83, 27, 63, 66, 84, 35, 44, 56, 7, 22, 60, 13, 20, 25, 80, 70, 41, 4, 57, 15, 38, 55, 2, 10, 54, 89, 65, 94, 11, 26, 53, 65, 11, 58, 94, 1, 8, 99, 17, 81, 48, 77, 42, 49, 92, 68, 53, 6, 47, 26, 67, 78, 97, 3, 31, 93, 9, 16, 51, 69, 19, 86, 12, 21, 73, 33, 64, 24, 79, 95, 98, 75, 23, 72, 46, 50, 88, 74, 5, 18, 84, 43, 59, 45, 85, 40, 62, 87, 14, 76, 71, 7, 61, 39, 30, 56, 90, 91, 32, 22, 70, 82, 37, 28, 60, 52, 2, 34, 44, 35, 55, 83, 29, 38, 4, 25, 96, 0, 15, 20, 27, 80, 13, 36, 63, 57, 66, 10, 54, 89, 41, 65, 11, 77, 94, 17, 31, 65, 92, 99, 11, 21, 51, 42, 26, 95, 6, 49, 78, 9, 48, 58, 53, 74, 79, 19, 23, 33, 73, 84, 88, 8, 67, 3, 46, 68, 75, 1, 43, 50, 64, 47, 72, 81, 86, 98, 16, 69, 5, 93, 97, 59, 90, 12, 45, 14, 24, 61, 71, 87, 70, 40, 44, 96, 32, 55, 4, 7, 56, 18, 38, 54, 91, 25, 85, 22, 30, 28, 62, 0, 20, 35, 39, 63, 34, 60, 76, 82, 83, 27, 29, 37, 2, 10, 13, 15, 36, 57, 80, 52, 41, 66, 89, 65, 99, 26, 95, 77, 94, 11, 12, 31, 81, 42, 58, 1, 53, 59, 64, 69, 97, 21, 68, 74, 79, 48, 8, 17, 19, 33, 49, 46, 72, 92, 9, 23, 24, 45, 3, 5, 16, 43, 47, 67, 78, 86, 93, 51, 6, 75, 84, 90, 50, 98, 18, 61, 40, 30, 88, 14, 73, 44, 71, 35, 38, 7, 85, 87, 96, 32, 28, 36, 91, 83, 76, 62, 39, 13, 56, 10, 63, 15, 55, 25, 70, 27, 37, 22, 34, 52, 20, 29, 57, 60, 0, 41, 54, 4, 89, 82, 2, 66, 80, 65, 95, 65, 42, 19, 11, 99, 72, 43, 3, 8, 17, 58, 97, 77, 46, 49, 94, 26, 53, 12, 23, 9, 33, 59, 5, 21, 48, 74, 78, 84, 1, 31, 51, 67, 81, 86, 14, 64, 69, 16, 45, 90, 93, 24, 92, 79, 6, 40, 47, 73, 50, 18, 68, 88, 71, 87, 61, 75, 32, 98, 36, 7, 22, 38, 76, 10, 30, 55, 28, 91, 0, 39, 70, 96, 34, 44, 85, 35, 20, 25, 57, 63, 83, 4, 62, 89, 52, 29, 60, 82, 27, 54, 15, 56, 37, 41, 2, 13, 66, 80, 65, 11, 26, 51, 95, 31, 9, 17, 19, 64, 42, 49, 84, 68, 94, 3, 21, 72, 97, 67, 78, 77, 5, 8, 12, 16, 58, 69, 90, 99, 93, 6, 24, 53, 92, 45, 74, 75, 86, 1, 23, 43, 48, 79, 81, 50, 14, 40, 88, 47, 73, 18, 87, 71, 98, 46, 32, 61, 36, 10, 59, 22, 96, 13, 33, 44, 38, 55, 25, 54, 35, 7, 70, 28, 30, 62, 76, 85, 91, 39, 0, 4, 20, 63, 52, 56, 15, 27, 80, 29, 37, 34, 66, 60, 41, 57, 82, 89, 83, 2, 11, 65, 94, 26, 53, 19, 99, 49, 17, 31, 95, 78, 81, 23, 45, 5, 68, 71, 77, 98, 51, 69, 8, 48, 86, 92, 12, 97, 33, 58, 64, 84, 6, 11, 9, 1, 3, 21, 42, 46, 24, 61, 74, 79, 75, 90, 67, 16, 72, 87, 93, 59, 36, 88, 14, 47, 50, 38, 96, 18, 40, 62, 73, 43, 7, 27, 32, 85, 44, 0, 30, 70, 76, 20, 91, 15, 29, 35, 56, 25, 37, 63, 55, 22, 10, 41, 28, 39, 83, 4, 34, 52, 60, 13, 54, 66, 80, 82, 57, 89, 2, 65, 65, 11, 31, 19, 77, 94, 93, 74, 42, 99, 26, 58, 81, 98, 78, 33, 67, 6, 8, 51, 95, 64, 69, 23, 68, 16, 75, 84, 97, 14, 24, 49, 46, 43, 47, 48, 53, 9, 21, 73, 92, 5, 12, 86, 1, 17, 50, 96, 3, 88, 45, 79, 59, 18, 72, 40, 90, 61, 32, 37, 52, 39, 71, 44, 62, 22, 38, 70, 83, 28, 35, 87, 7, 57, 13, 25, 27, 29, 76, 0, 20, 41, 30, 85, 63, 4, 91, 2, 36, 54, 34, 56, 10, 80, 55, 66, 15, 89, 82, 60, 93, 97, 94, 49, 11, 65, 95, 59, 77, 16, 19, 67, 78, 58, 31, 33, 51, 64, 74, 1, 12, 42, 46, 47, 48, 57, 68, 72, 86, 3, 8, 9, 23, 40, 69, 99, 43, 75, 81, 5, 26, 10, 24, 50, 32, 52, 53, 92, 21, 71, 88, 98, 28, 84, 96, 0, 6, 22, 41, 62, 79, 17, 18, 36, 45, 61, 76, 80, 85, 87, 90, 7, 20, 44, 73, 13, 35, 30, 34, 37, 38, 91, 2, 27, 56, 55, 82, 89, 39, 54, 14, 83, 4, 70, 63, 66, 25, 60, 15, 29, 65, 11, 99, 42, 23, 1, 58, 49, 3, 77, 17, 78, 16, 45, 67, 68, 94, 51, 95, 8, 86, 6, 19, 21, 75, 9, 72, 90, 93, 97, 26, 31, 33, 48, 43, 74, 88, 12, 69, 81, 24, 53, 79, 61, 71, 38, 40, 59, 92, 50, 70, 73, 64, 84, 5, 47, 98, 18, 36, 85, 52, 32, 96, 7, 14, 35, 46, 63, 87, 4, 20, 91, 28, 44, 62, 34, 60, 15, 41, 0, 76, 22, 29, 37, 54, 57, 66, 89, 80, 25, 30, 83, 10, 13, 27, 55, 56, 82, 39, 2, 11, 65, 8, 3, 17, 99, 23, 94, 1, 68, 95, 12, 72, 26, 97, 19, 49, 51, 59, 6, 74, 16, 33, 53, 67, 21, 78, 79, 40, 58, 69, 73, 47, 86, 48, 71, 88, 42, 81, 93, 75, 45, 9, 31, 85, 46, 98, 43, 92, 77, 18, 61, 70, 84, 83, 64, 96, 38, 90, 24, 5, 50, 87, 63, 34, 36, 39, 29, 0, 15, 25, 30, 37, 22, 35, 91, 4, 20, 62, 66, 76, 7, 14, 27, 28, 41, 60, 80, 32, 44, 52, 89, 10, 56, 54, 55, 13, 82, 57, 2, 65, 99, 6, 11, 17, 42, 33, 51, 94, 12, 53, 3, 1, 8, 64, 59, 26, 92, 21, 81, 88, 58, 95, 23, 47, 9, 48, 49, 43, 68, 67, 72, 19, 73, 79, 40, 71, 77, 78, 16, 50, 74, 69, 93, 31, 97, 25, 14, 86, 87, 85, 46, 75, 18, 38, 45, 63, 4, 5, 7, 90, 70, 76, 96, 98, 24, 61, 28, 29, 56, 84, 60, 83, 13, 82, 27, 32, 44, 91, 62, 20, 34, 39, 35, 22, 55, 15, 36, 54, 30, 41, 52, 2, 0, 89, 66, 37, 57, 80, 10, 65, 49, 95, 26, 94, 8, 11, 51, 77, 81, 17, 31, 48, 3, 99, 21, 42, 74, 92, 67, 68, 93, 9, 12, 53, 64, 97, 6, 33, 73, 78, 58, 43, 46, 69, 19, 72, 98, 40, 59, 47, 50, 86, 1, 75, 79, 5, 88, 70, 23, 84, 18, 16, 45, 71, 96, 32, 61, 24, 28, 35, 76, 38, 85, 90, 91, 14, 57, 87, 41, 56, 83, 22, 44, 55, 7, 62, 30, 34, 4, 29, 63, 39, 60, 27, 52, 20, 25, 66, 0, 37, 54, 36, 2, 80, 82, 89, 13, 10, 15, 11, 65, 72, 42, 94, 95, 8, 67, 49, 53, 17, 51, 68, 88, 19, 92, 99, 1, 6, 43, 97, 64, 77, 3, 48, 73, 78, 81, 93, 9, 12, 21, 31, 58, 16, 33, 46, 59, 61, 71, 74, 45, 98, 26, 50, 69, 75, 79, 84, 47, 86, 96, 5, 40, 18, 22, 32, 24, 14, 87, 52, 0, 7, 34, 38, 25, 35, 37, 90, 91, 23, 28, 62, 30, 44, 70, 4, 15, 76, 83, 56, 60, 82, 85, 27, 29, 54, 55, 20, 63, 36, 80, 13, 57, 39, 10, 41, 2, 89, 66, 65, 11, 3, 51, 21, 95, 58, 97, 74, 98, 9, 1, 94, 8, 99, 73, 75, 77, 6, 93, 72, 78, 84, 17, 19, 42, 43, 31, 59, 79, 92, 16, 48, 64, 68, 23, 47, 49, 40, 67, 26, 69, 46, 5, 50, 88, 33, 53, 81, 12, 24, 96, 14, 90, 62, 86, 70, 32, 45, 55, 61, 80, 18, 22, 0, 71, 28, 44, 87, 7, 85, 91, 39, 38, 56, 20, 4, 27, 29, 30, 35, 82, 25, 76, 10, 37, 63, 83, 52, 41, 34, 54, 36, 57, 60, 66, 2, 15, 13, 89, 65, 77, 11, 65, 94, 9, 97, 48, 49, 81, 1, 6, 42, 33, 74, 99, 92, 51, 67, 17, 21, 31, 43, 78, 69, 3, 16, 53, 58, 59, 68, 26, 72, 88, 93, 98, 23, 47, 73, 12, 46, 84, 95, 45, 64, 79, 8, 19, 61, 62, 90, 5, 14, 71, 40, 75, 96, 50, 38, 18, 24, 7, 28, 29, 70, 76, 91, 35, 85, 86, 20, 25, 32, 4, 22, 27, 30, 44, 87, 37, 63, 0, 83, 39, 55, 52, 60, 41, 34, 57, 82, 56, 80, 15, 36, 54, 66, 10, 89, 2, 13, 65, 11, 65, 53, 26, 94, 19, 31, 3, 58, 1, 8, 77, 99, 51, 6, 17, 93, 49, 78, 81, 92, 42, 59, 9, 95, 45, 48, 12, 16, 21, 33, 64, 74, 69, 97, 98, 46, 67, 43, 72, 68, 5, 75, 71, 79, 14, 18, 47, 24, 73, 23, 56, 38, 90, 84, 96, 61, 76, 86, 88, 40, 62, 91, 70, 32, 44, 50, 28, 37, 29, 22, 85, 0, 25, 41, 87, 20, 30, 7, 27, 36, 83, 60, 34, 55, 4, 35, 15, 57, 66, 82, 80, 54, 52, 13, 10, 39, 63, 89, 2, 65, 65, 8, 19, 17, 51, 21, 72, 49, 95, 1, 16, 26, 3, 53, 73, 31, 33, 40, 97, 6, 11, 12, 59, 70, 71, 98, 15, 58, 67, 69, 74, 75, 78, 5, 23, 36, 48, 61, 68, 86, 93, 99, 46, 94, 9, 30, 38, 41, 42, 45, 50, 64, 77, 88, 44, 84, 92, 4, 25, 27, 34, 76, 79, 81, 10, 22, 47, 52, 56, 7, 20, 32, 90, 91, 0, 18, 29, 35, 43, 87, 14, 55, 60, 63, 80, 85, 24, 62, 66, 37, 96, 13, 28, 89, 39, 54, 82, 2, 57, 83, 65, 65, 19, 11, 31, 95, 99, 3, 42, 23, 68, 78, 12, 17, 50, 94, 81, 26, 97, 51, 67, 72, 93, 58, 92, 53, 79, 86, 8, 77, 33, 45, 9, 49, 90, 1, 59, 64, 84, 16, 43, 5, 21, 88, 14, 40, 48, 69, 74, 75, 98, 44, 47, 18, 38, 61, 32, 36, 6, 10, 46, 28, 62, 71, 0, 29, 73, 76, 87, 96, 55, 7, 30, 34, 35, 82, 41, 85, 24, 56, 91, 20, 25, 70, 4, 83, 52, 80, 63, 27, 22, 39, 60, 89, 57, 13, 15, 2, 66, 37, 54, 65, 65, 26, 11, 3, 19, 68, 77, 59, 95, 99, 1, 78, 97, 72, 17, 42, 48, 79, 9, 74, 90, 31, 93, 94, 12, 50, 8, 49, 58, 67, 21, 23, 53, 81, 33, 46, 64, 69, 5, 43, 6, 16, 75, 98, 45, 47, 85, 71, 86, 14, 24, 51, 92, 73, 84, 87, 88, 96, 35, 7, 61, 18, 40, 44, 62, 34, 91, 32, 38, 76, 82, 0, 28, 54, 70, 83, 4, 57, 10, 22, 29, 52, 63, 13, 30, 60, 15, 37, 36, 39, 55, 56, 2, 41, 80, 20, 27, 25, 66, 89, 65, 65, 94, 6, 67, 47, 12, 68, 78, 98, 43, 92, 95, 49, 53, 77, 48, 58, 88, 8, 64, 93, 42, 11, 26, 73, 21, 46, 9, 31, 3, 16, 17, 19, 33, 51, 69, 81, 1, 59, 71, 72, 79, 75, 50, 97, 99, 40, 62, 86, 24, 84, 23, 90, 74, 5, 18, 45, 76, 7, 28, 87, 82, 25, 32, 70, 83, 85, 61, 14, 22, 39, 54, 63, 91, 29, 38, 37, 80, 10, 35, 55, 20, 30, 44, 34, 36, 27, 41, 56, 57, 66, 96, 15, 0, 89, 2, 4, 52, 13, 60, 65, 65, 79, 67, 11, 92, 97, 49, 9, 21, 53, 58, 99, 1, 17, 68, 98, 78, 81, 95, 26, 12, 48, 77, 94, 84, 3, 69, 70, 88, 19, 33, 47, 64, 8, 73, 42, 43, 75, 6, 45, 72, 37, 38, 59, 61, 74, 5, 16, 50, 71, 18, 28, 62, 83, 85, 55, 91, 86, 93, 14, 24, 87, 31, 46, 51, 20, 96, 23, 25, 44, 0, 7, 29, 32, 90, 22, 76, 4, 40, 63, 80, 82, 15, 89, 35, 27, 52, 66, 30, 54, 36, 41, 39, 56, 60, 34, 2, 10, 13, 65, 57, 65, 77, 33, 11, 42, 58, 31, 3, 17, 19, 26, 67, 78, 97, 94, 12, 68, 92, 72, 88, 73, 18, 49, 1, 8, 9, 23, 51, 6, 99, 43, 48, 50, 81, 87, 95, 98, 21, 69, 86, 45, 79, 40, 46, 47, 59, 7, 70, 71, 90, 74, 53, 85, 93, 14, 16, 38, 52, 64, 61, 84, 5, 63, 76, 91, 28, 37, 22, 75, 35, 96, 0, 24, 32, 25, 34, 39, 82, 29, 30, 60, 2, 54, 62, 55, 20, 44, 10, 41, 56, 13, 83, 27, 57, 89, 4, 15, 36, 66, 80, 65, 65, 11, 77, 94, 81, 98, 6, 58, 42, 49, 53, 1, 17, 95, 48, 92, 99, 51, 59, 71, 9, 21, 26, 43, 12, 19, 78, 31, 64, 67, 68, 73, 74, 97, 8, 88, 3, 14, 16, 79, 93, 18, 33, 46, 69, 72, 40, 84, 5, 28, 38, 50, 75, 47, 87, 24, 70, 32, 56, 45, 85, 90, 23, 13, 82, 55, 7, 61, 86, 96, 29, 35, 83, 25, 60, 0, 22, 30, 39, 57, 89, 63, 76, 4, 10, 54, 66, 41, 44, 62, 2, 52, 27, 91, 80, 37, 34, 15, 20, 36, 65, 65, 53, 8, 77, 21, 78, 99, 9, 11, 95, 92, 94, 73, 58, 42, 67, 14, 46, 81, 97, 3, 26, 48, 59, 1, 12, 47, 98, 90, 19, 79, 43, 75, 86, 88, 31, 93, 17, 68, 72, 74, 6, 16, 45, 64, 85, 82, 24, 69, 87, 30, 35, 49, 84, 91, 96, 33, 50, 83, 28, 5, 18, 40, 51, 62, 23, 32, 70, 55, 60, 7, 61, 29, 37, 54, 71, 80, 38, 10, 20, 34, 0, 2, 44, 22, 36, 15, 39, 66, 25, 4, 56, 76, 52, 89, 57, 13, 41, 27, 63, 65, 65, 67, 3, 81, 95, 86, 19, 72, 11, 68, 92, 43, 12, 99, 6, 40, 93, 17, 45, 64, 77, 94, 97, 88, 1, 78, 49, 69, 26, 61, 71, 21, 23, 42, 51, 48, 8, 58, 85, 98, 9, 16, 50, 31, 53, 5, 47, 59, 18, 73, 82, 90, 35, 36, 38, 28, 44, 87, 13, 46, 24, 83, 14, 55, 76, 84, 29, 75, 96, 60, 62, 79, 56, 70, 74, 0, 15, 33, 25, 30, 32, 66, 37, 63, 91, 52, 4, 22, 41, 34, 54, 20, 7, 2, 27, 89, 10, 57, 39, 80]\n"
     ]
    },
    {
     "data": {
      "text/plain": [
       "96"
      ]
     },
     "execution_count": 9,
     "metadata": {},
     "output_type": "execute_result"
    }
   ],
   "source": [
    "spikes = list(model['ESP'].i)\n",
    "print(spikes)\n",
    "spikes.index(2)"
   ]
  },
  {
   "cell_type": "code",
   "execution_count": null,
   "metadata": {},
   "outputs": [],
   "source": [
    "os.chdir('train')"
   ]
  },
  {
   "cell_type": "code",
   "execution_count": null,
   "metadata": {},
   "outputs": [
    {
     "name": "stderr",
     "output_type": "stream",
     "text": [
      "100%|██████████| 10/10 [00:04<00:00,  2.07it/s]\n"
     ]
    }
   ],
   "source": [
    "# переписать в отдлельный скрипт\n",
    "\n",
    "chk_list = os.listdir()\n",
    "chk_list.sort()\n",
    "chk_list.remove('conv_pic')\n",
    "# chk_list.remove('conv_train.gif')\n",
    "\n",
    "count = 0\n",
    "\n",
    "for file in tqdm(chk_list):\n",
    "    model.net.restore(name='train', filename=file)\n",
    "\n",
    "    left_border = 0\n",
    "    right_border = 100\n",
    "\n",
    "    w_matrix = np.zeros(shape=(28, 28))\n",
    "    exc_rates_matrix = np.zeros(shape=(10, 10))\n",
    "    \n",
    "\n",
    "    for i in np.arange(0, 28):\n",
    "        for j in np.arange(0, 28):\n",
    "            w_sum = np.sum(model['S1'].w[left_border:right_border])\n",
    "            w_matrix[i, j] = w_sum\n",
    "\n",
    "            left_border += 100\n",
    "            right_border += 100\n",
    "\n",
    "    spikes_ser = pd.Series(list(model['ESP'].i))\n",
    "    count_neuron = 0\n",
    "\n",
    "    for i in range(10):\n",
    "        for j in range(10):\n",
    "            exc_rates_matrix[i, j] = spikes_ser[spikes_ser == count_neuron].shape[0] / (epochs * 0.5)\n",
    "            count_neuron += 1\n",
    "\n",
    "    plt.figure(figsize=(15,8))\n",
    "    plt.colorbar(plt.imshow(w_matrix))\n",
    "    plt.title(f'Epoch{count}')\n",
    "    plt.savefig(f'conv_pic/w_matrix_{count}.png')\n",
    "    plt.close()\n",
    "\n",
    "    plt.figure(figsize=(15,8))\n",
    "    plt.colorbar(plt.imshow(exc_rates_matrix))\n",
    "    plt.title(f'Epoch {count}')\n",
    "    plt.savefig(f'conv_pic/rates_matrix_{count}.png')\n",
    "    plt.close()\n",
    "\n",
    "    count += 1"
   ]
  },
  {
   "cell_type": "code",
   "execution_count": null,
   "metadata": {},
   "outputs": [],
   "source": [
    "from PIL import Image\n",
    "\n",
    "frames = []\n",
    " \n",
    "for frame_number in range(0, epochs):\n",
    "    frame = Image.open(f'conv_pic/rates_matrix_{frame_number}.png')\n",
    "    frames.append(frame)\n",
    "\n",
    "frames[0].save(\n",
    "    'rates_train.gif',\n",
    "    save_all=True,\n",
    "    append_images=frames[1:],  # Срез который игнорирует первый кадр.\n",
    "    optimize=True,\n",
    "    duration=300,\n",
    "    loop=0\n",
    ")"
   ]
  },
  {
   "cell_type": "code",
   "execution_count": null,
   "metadata": {},
   "outputs": [],
   "source": [
    "from PIL import Image\n",
    "\n",
    "frames = []\n",
    " \n",
    "for frame_number in range(0, epochs):\n",
    "    frame = Image.open(f'conv_pic/w_matrix_{frame_number}.png')\n",
    "    frames.append(frame)\n",
    "\n",
    "frames[0].save(\n",
    "    'conv_train.gif',\n",
    "    save_all=True,\n",
    "    append_images=frames[1:],  # Срез который игнорирует первый кадр.\n",
    "    optimize=True,\n",
    "    duration=300,\n",
    "    loop=0\n",
    ")"
   ]
  },
  {
   "cell_type": "code",
   "execution_count": null,
   "metadata": {},
   "outputs": [
    {
     "data": {
      "text/plain": [
       "45000"
      ]
     },
     "execution_count": 14,
     "metadata": {},
     "output_type": "execute_result"
    }
   ],
   "source": [
    "len(model['ERM'].smooth_rate(window='flat', width=0.1 * ms))"
   ]
  },
  {
   "cell_type": "code",
   "execution_count": null,
   "metadata": {},
   "outputs": [
    {
     "ename": "KeyError",
     "evalue": "'No object with name \"S_SW_M\" found'",
     "output_type": "error",
     "traceback": [
      "\u001b[0;31m---------------------------------------------------------------------------\u001b[0m",
      "\u001b[0;31mKeyError\u001b[0m                                  Traceback (most recent call last)",
      "Cell \u001b[0;32mIn[15], line 5\u001b[0m\n\u001b[1;32m      1\u001b[0m sum_w_lst \u001b[38;5;241m=\u001b[39m []\n\u001b[1;32m      3\u001b[0m writer \u001b[38;5;241m=\u001b[39m SummaryWriter(\u001b[38;5;124m'\u001b[39m\u001b[38;5;124mModel_1_raw\u001b[39m\u001b[38;5;124m'\u001b[39m) \n\u001b[0;32m----> 5\u001b[0m \u001b[38;5;28;01mfor\u001b[39;00m i \u001b[38;5;129;01min\u001b[39;00m tqdm(np\u001b[38;5;241m.\u001b[39marange(\u001b[38;5;28mlen\u001b[39m(\u001b[43mmodel\u001b[49m\u001b[43m[\u001b[49m\u001b[38;5;124;43m'\u001b[39;49m\u001b[38;5;124;43mS_SW_M\u001b[39;49m\u001b[38;5;124;43m'\u001b[39;49m\u001b[43m]\u001b[49m\u001b[38;5;241m.\u001b[39mw\u001b[38;5;241m.\u001b[39mT), step\u001b[38;5;241m=\u001b[39m\u001b[38;5;241m500\u001b[39m)):\n\u001b[1;32m      6\u001b[0m     sum_w \u001b[38;5;241m=\u001b[39m np\u001b[38;5;241m.\u001b[39msum(model[\u001b[38;5;124m'\u001b[39m\u001b[38;5;124mS_SW_M\u001b[39m\u001b[38;5;124m'\u001b[39m]\u001b[38;5;241m.\u001b[39mw\u001b[38;5;241m.\u001b[39mT[i])\n\u001b[1;32m      8\u001b[0m     writer\u001b[38;5;241m.\u001b[39madd_scalar(\u001b[38;5;124m\"\u001b[39m\u001b[38;5;124mLoss/train\u001b[39m\u001b[38;5;124m\"\u001b[39m, sum_w, i)\n",
      "File \u001b[0;32m~/projects/smallworld_snn/snn_200_poisson.py:127\u001b[0m, in \u001b[0;36mModel.__getitem__\u001b[0;34m(self, key)\u001b[0m\n\u001b[1;32m    126\u001b[0m \u001b[38;5;28;01mdef\u001b[39;00m \u001b[38;5;21m__getitem__\u001b[39m(\u001b[38;5;28mself\u001b[39m, key):\n\u001b[0;32m--> 127\u001b[0m     \u001b[38;5;28;01mreturn\u001b[39;00m \u001b[38;5;28;43mself\u001b[39;49m\u001b[38;5;241;43m.\u001b[39;49m\u001b[43mnet\u001b[49m\u001b[43m[\u001b[49m\u001b[43mkey\u001b[49m\u001b[43m]\u001b[49m\n",
      "File \u001b[0;32m~/miniconda3/envs/small_world_snn/lib/python3.12/site-packages/brian2/core/network.py:498\u001b[0m, in \u001b[0;36mNetwork.__getitem__\u001b[0;34m(self, item)\u001b[0m\n\u001b[1;32m    495\u001b[0m     \u001b[38;5;28;01mif\u001b[39;00m obj\u001b[38;5;241m.\u001b[39mname \u001b[38;5;241m==\u001b[39m item:\n\u001b[1;32m    496\u001b[0m         \u001b[38;5;28;01mreturn\u001b[39;00m obj\n\u001b[0;32m--> 498\u001b[0m \u001b[38;5;28;01mraise\u001b[39;00m \u001b[38;5;167;01mKeyError\u001b[39;00m(\u001b[38;5;124mf\u001b[39m\u001b[38;5;124m'\u001b[39m\u001b[38;5;124mNo object with name \u001b[39m\u001b[38;5;124m\"\u001b[39m\u001b[38;5;132;01m{\u001b[39;00mitem\u001b[38;5;132;01m}\u001b[39;00m\u001b[38;5;124m\"\u001b[39m\u001b[38;5;124m found\u001b[39m\u001b[38;5;124m'\u001b[39m)\n",
      "\u001b[0;31mKeyError\u001b[0m: 'No object with name \"S_SW_M\" found'"
     ]
    }
   ],
   "source": [
    "sum_w_lst = []\n",
    "\n",
    "writer = SummaryWriter('Model_1_raw') \n",
    "\n",
    "for i in tqdm(np.arange(len(model['S_SW_M'].w.T), step=500)):\n",
    "    sum_w = np.sum(model['S_SW_M'].w.T[i])\n",
    "    \n",
    "    writer.add_scalar(\"Loss/train\", sum_w, i)\n",
    "    sum_w_lst.append(sum_w)\n",
    "\n",
    "writer.flush()\n",
    "writer.close()"
   ]
  },
  {
   "cell_type": "code",
   "execution_count": null,
   "metadata": {},
   "outputs": [],
   "source": []
  }
 ],
 "metadata": {
  "kernelspec": {
   "display_name": "small_world",
   "language": "python",
   "name": "python3"
  },
  "language_info": {
   "codemirror_mode": {
    "name": "ipython",
    "version": 3
   },
   "file_extension": ".py",
   "mimetype": "text/x-python",
   "name": "python",
   "nbconvert_exporter": "python",
   "pygments_lexer": "ipython3",
   "version": "3.10.13"
  }
 },
 "nbformat": 4,
 "nbformat_minor": 2
}
